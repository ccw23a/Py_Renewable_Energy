{
 "cells": [
  {
   "cell_type": "markdown",
   "metadata": {},
   "source": [
    "## Web Crawling using Selenium in Energy Big Data\n",
    "### Honggeun Jo, Assistant Professor, Inha University "
   ]
  },
  {
   "cell_type": "markdown",
   "metadata": {},
   "source": [
    "First, let's install the Selenium package on your computer. If you have already installed it, you can skip this step and move to the next cell. If not, proceed with the installation below."
   ]
  },
  {
   "cell_type": "code",
   "execution_count": null,
   "metadata": {},
   "outputs": [],
   "source": [
    "pip install selenium"
   ]
  },
  {
   "cell_type": "markdown",
   "metadata": {},
   "source": [
    "### Explanation of Selenium Commands\n",
    "\n",
    "The following two commands are used for setting up the Selenium WebDriver and importing necessary utilities in Python.\n",
    "\n",
    "#### 1. Importing the Selenium WebDriver\n",
    "```python\n",
    "from selenium import webdriver\n",
    "```\n",
    "#### 2. Importing the Keys module\n",
    "```python\n",
    "from selenium.webdriver.common.keys import Keys\n",
    "```"
   ]
  },
  {
   "cell_type": "code",
   "execution_count": null,
   "metadata": {},
   "outputs": [],
   "source": [
    "from selenium import webdriver\n",
    "from selenium. webdriver.common.keys import Keys"
   ]
  },
  {
   "cell_type": "markdown",
   "metadata": {},
   "source": [
    "### Accessing a Webpage with Selenium\n",
    "\n",
    "The following code demonstrates how to open a webpage using Selenium and the Chrome WebDriver:\n"
   ]
  },
  {
   "cell_type": "code",
   "execution_count": null,
   "metadata": {},
   "outputs": [],
   "source": [
    "# access to the webpage\n",
    "driver = webdriver.Chrome()\n",
    "url = 'http://ncov.kdca.go.kr/'\n",
    "driver.get(url)"
   ]
  },
  {
   "cell_type": "markdown",
   "metadata": {},
   "source": [
    "### Accessing an Object by XPath with Selenium\n",
    "\n",
    "The following code demonstrates how to find a webpage element using its **XPath** and retrieve its text.\n"
   ]
  },
  {
   "cell_type": "code",
   "execution_count": null,
   "metadata": {},
   "outputs": [],
   "source": [
    "# get object by Xpath\n",
    "icon = driver.find_element('xpath', '//*[@id=\"tab_list\"]/ul/li[1]/ul/li/div/a[1]')\n",
    "print(icon.text)"
   ]
  },
  {
   "cell_type": "code",
   "execution_count": null,
   "metadata": {},
   "outputs": [],
   "source": [
    "# get multiple objects by Xpath\n",
    "icons = driver.find_elements('xpath', '//*[@id=\"tab_list\"]/ul/li[1]/ul')\n",
    "print([icon.text for icon in icons])\n"
   ]
  },
  {
   "cell_type": "markdown",
   "metadata": {},
   "source": [
    "### Clicking an Object with Selenium\n",
    "\n",
    "The following code demonstrates how to open a webpage, locate an element by its XPath, and click on it using Selenium.\n"
   ]
  },
  {
   "cell_type": "code",
   "execution_count": null,
   "metadata": {},
   "outputs": [],
   "source": [
    "# click an object\n",
    "driver = webdriver.Chrome()\n",
    "url = 'http://ncov.kdca.go.kr/'\n",
    "driver.get(url)\n",
    "icons = driver.find_element('xpath', '//*[@id=\"gnb\"]/div/ul/li[1]/a')\n",
    "icons.click()\n"
   ]
  },
  {
   "cell_type": "code",
   "execution_count": null,
   "metadata": {},
   "outputs": [],
   "source": [
    "# click an object & Type an text\n",
    "driver = webdriver.Chrome()\n",
    "url = 'http://ncov.kdca.go.kr/'\n",
    "driver.get(url)\n",
    "icons = driver.find_element('xpath', '//*[@id=\"gnb\"]/div/ul/li[1]/a')\n",
    "icons.click()\n",
    "\n",
    "search = driver.find_element('xpath', '//*[@id=\"search-searchpage\"]')\n",
    "search.click()\n",
    "search.send_keys('인천')\n",
    "search.send_keys(Keys.ENTER)\n"
   ]
  },
  {
   "cell_type": "code",
   "execution_count": null,
   "metadata": {},
   "outputs": [],
   "source": [
    "# print HIML of the current page\n",
    "driver = webdriver.Chrome()\n",
    "url = 'http://ncov.kdca.go.kr/'\n",
    "driver.get(url)\n",
    "icons = driver.find_element('xpath', '//*[@id=\"gnb\"]/div/ul/li[1]/a')\n",
    "icons.click()\n",
    "\n",
    "search = driver.find_element('xpath', '//*[@id=\"search-searchpage\"]')\n",
    "search.click()\n",
    "search.send_keys('인천')\n",
    "search.send_keys(Keys.ENTER)\n",
    "\n",
    "print(driver.page_source)"
   ]
  }
 ],
 "metadata": {
  "kernelspec": {
   "display_name": "Python 3",
   "language": "python",
   "name": "python3"
  },
  "language_info": {
   "codemirror_mode": {
    "name": "ipython",
    "version": 3
   },
   "file_extension": ".py",
   "mimetype": "text/x-python",
   "name": "python",
   "nbconvert_exporter": "python",
   "pygments_lexer": "ipython3",
   "version": "3.13.1"
  }
 },
 "nbformat": 4,
 "nbformat_minor": 2
}
