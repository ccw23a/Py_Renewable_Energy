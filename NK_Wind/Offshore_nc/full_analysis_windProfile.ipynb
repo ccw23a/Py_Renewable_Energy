{
 "cells": [
  {
   "cell_type": "code",
   "execution_count": null,
   "id": "a7ffc39e",
   "metadata": {},
   "outputs": [],
   "source": [
    "# This Jupyter Notebook file is to show entire comparison on West Sea in three sectors\n",
    "# datasets are from ERA5 post-processed single level reanalysis\n",
    "# will compare on wind spd/dir in 100m above sea level and 10m above sea level using various stastical knowledge\n",
    "# plots will be like matrix in selected areas\n",
    "# \n",
    "#\n",
    "# csv files are already calculated in R code by combining u and v profiles.\n",
    "# directory for those are on Dataset_ERA5 \n",
    "# and paths for reading and saving csv will be based on repo that i use, so if you want to run on other environment, you`ll need to specify the path of the csv files to run properly\n",
    "# \n",
    "#\n",
    "# Choi Chan Woo, Inha University\n",
    "#`Py_Renewable, NK_Wind Project"
   ]
  },
  {
   "cell_type": "code",
   "execution_count": null,
   "id": "19922042",
   "metadata": {},
   "outputs": [],
   "source": []
  }
 ],
 "metadata": {
  "kernelspec": {
   "display_name": "base",
   "language": "python",
   "name": "python3"
  },
  "language_info": {
   "codemirror_mode": {
    "name": "ipython",
    "version": 3
   },
   "file_extension": ".py",
   "mimetype": "text/x-python",
   "name": "python",
   "nbconvert_exporter": "python",
   "pygments_lexer": "ipython3",
   "version": "3.12.7"
  }
 },
 "nbformat": 4,
 "nbformat_minor": 5
}
