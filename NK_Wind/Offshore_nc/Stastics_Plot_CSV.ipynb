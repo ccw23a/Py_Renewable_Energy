{
 "cells": [
  {
   "cell_type": "markdown",
   "id": "4e95568a",
   "metadata": {},
   "source": [
    "API를 통한 NetCDF4 데이터셋 수입 or 로컬에서 수입\n",
    "\n",
    "NetCDF4 데이터셋에서 데이터 형태 확인\n",
    "\n",
    "위치별 데이터프레임 생성 (시간별) 및 라벨화\n",
    "\n",
    "위치별 데이터프레임 계산 (왜도, 첨도, 평균, 분산, 표준편차등)\n",
    "\n",
    "위치별 데이터프레임 플롯 (Boxplot, Histogram, Violinplot)\n",
    "\n",
    "위치별 데이터 프레임 비교\n",
    "\n",
    "풍력 에너지 계산 (1/8 * D^2 * v^3)\n",
    "\n",
    "모든 데이터를 데이터프레임에 저장 및 csv로 저장"
   ]
  },
  {
   "cell_type": "code",
   "execution_count": 1,
   "id": "7e602ff4",
   "metadata": {},
   "outputs": [],
   "source": [
    "import numpy as np\n",
    "import pandas as pd\n",
    "import xarray as xr\n",
    "import glob"
   ]
  },
  {
   "cell_type": "code",
   "execution_count": null,
   "id": "295986b6",
   "metadata": {},
   "outputs": [],
   "source": [
    "import matplotlib.pyplot as plt\n",
    "import seaborn as sns\n",
    "from scipy.stats import skew, kurtosis\n",
    "import natsort"
   ]
  },
  {
   "cell_type": "code",
   "execution_count": 4,
   "id": "67fdea76",
   "metadata": {},
   "outputs": [
    {
     "name": "stdout",
     "output_type": "stream",
     "text": [
      "<xarray.Dataset>\n",
      "Dimensions:    (time: 1464, latitude: 720, longitude: 1440)\n",
      "Coordinates:\n",
      "  * latitude   (latitude) float32 -89.88 -89.62 -89.38 ... 89.38 89.62 89.88\n",
      "  * longitude  (longitude) float32 0.125 0.375 0.625 0.875 ... 359.4 359.6 359.9\n",
      "  * time       (time) datetime64[ns] 2024-01-01 ... 2024-12-31T18:00:00\n",
      "Data variables:\n",
      "    uwnd       (time, latitude, longitude) float32 dask.array<chunksize=(4, 720, 1440), meta=np.ndarray>\n",
      "    vwnd       (time, latitude, longitude) float32 dask.array<chunksize=(4, 720, 1440), meta=np.ndarray>\n",
      "    ws         (time, latitude, longitude) float32 dask.array<chunksize=(4, 720, 1440), meta=np.ndarray>\n",
      "    nobs       (time, latitude, longitude) float32 dask.array<chunksize=(4, 720, 1440), meta=np.ndarray>\n",
      "Attributes: (12/54)\n",
      "    contact:                       Remote Sensing Systems, support@remss.com\n",
      "    Conventions:                   CF-1.7 ACDD-1.3\n",
      "    data_structure:                grid\n",
      "    title:                         RSS CCMP V3.1 6-hourly surface winds (Leve...\n",
      "    summary:                       RSS VAM 6-hour analyses using ERA-5 wind r...\n",
      "    institute_id:                  RSS\n",
      "    ...                            ...\n",
      "    time_coverage_end:             2024-01-01T23:59:59Z\n",
      "    platform:                      Space-based Platforms>Earth Observation Sa...\n",
      "    instrument:                    Earth Remote Sensing Instruments>Passive R...\n",
      "    history:                       2024-07-18T13:07:56.387608Z - netCDF gener...\n",
      "    base_date:                     Y2024 M01 D01\n",
      "    date_created:                  2024-07-18T13:07:56.387608Z\n"
     ]
    }
   ],
   "source": [
    "file_list = glob.glob(\"D:/Py_Renewable/NK_Wind/Offshore_nc/Dataset_NASA/*.nc\")\n",
    "df = xr.open_mfdataset(file_list, combine='by_coords')\n",
    "\n",
    "print(df)"
   ]
  }
 ],
 "metadata": {
  "kernelspec": {
   "display_name": "base",
   "language": "python",
   "name": "python3"
  },
  "language_info": {
   "codemirror_mode": {
    "name": "ipython",
    "version": 3
   },
   "file_extension": ".py",
   "mimetype": "text/x-python",
   "name": "python",
   "nbconvert_exporter": "python",
   "pygments_lexer": "ipython3",
   "version": "3.12.7"
  }
 },
 "nbformat": 4,
 "nbformat_minor": 5
}
